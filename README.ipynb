{
 "cells": [
  {
   "cell_type": "markdown",
   "id": "c423b89f-e8f4-4873-ae13-3a48128d2954",
   "metadata": {},
   "source": [
    "# socketfs\n",
    "\n",
    "A pyfilesystem-socket spamwich.\n",
    "\n",
    "\n",
    "```mermaid\n",
    "  graph TD\n",
    "    client[SocketFSClient]:::pyfs\n",
    "    socket( Socket ):::sock\n",
    "    server[SocketFSServer]:::pyfs\n",
    "\n",
    "    client --> socket --> server\n",
    "\n",
    "    classDef pyfs fill:#eeb\n",
    "    classDef sock fill:#fcc\n",
    "```"
   ]
  },
  {
   "cell_type": "markdown",
   "id": "99900e2f-9c8e-4d37-b64a-ec2a097a4ef6",
   "metadata": {},
   "source": [
    "#### Requirements\n",
    "    \n",
    "    fs>=2\n"
   ]
  },
  {
   "cell_type": "markdown",
   "id": "73104417-23fc-4c74-8f4a-1f76aa468e66",
   "metadata": {},
   "source": [
    "## How to:\n",
    "\n",
    "#### Use whatever pyfilesystem backing you like"
   ]
  },
  {
   "cell_type": "code",
   "execution_count": 1,
   "id": "2247dba5-aef7-4a94-8d61-e46844e88f78",
   "metadata": {},
   "outputs": [],
   "source": [
    "from fs.memoryfs import MemoryFS\n",
    "\n",
    "testfs = MemoryFS()\n",
    "\n",
    "# every world needs a population\n",
    "testfs.makedir('/hello')\n"
   ]
  },
  {
   "cell_type": "markdown",
   "id": "6d2150e9-40de-4b0e-9ffa-2ee7f3a1e5ba",
   "metadata": {},
   "source": [
    "#### Wrap the filesystem in the server"
   ]
  },
  {
   "cell_type": "code",
   "execution_count": 2,
   "id": "00d6963b-a439-479d-880b-835cc5e63cf7",
   "metadata": {},
   "outputs": [],
   "source": [
    "from socketfs import SocketFSServer\n",
    "\n",
    "sockfs = SocketFSServer(\"demosock/demo.sock\", testfs)\n",
    "sockfs.forever()  # put this into the background,\n",
    "                  # run in another terminal,\n",
    "                  # or run in a container\n"
   ]
  },
  {
   "cell_type": "markdown",
   "id": "22dce683-ddfb-4368-85e3-1ab16b701b81",
   "metadata": {},
   "source": [
    "#### Run the client in a separate process"
   ]
  },
  {
   "cell_type": "code",
   "execution_count": 7,
   "id": "83c47070-3be8-42c0-a2b7-5628b3902e65",
   "metadata": {
    "scrolled": true
   },
   "outputs": [
    {
     "data": {
      "text/plain": [
       "['hello']"
      ]
     },
     "execution_count": 7,
     "metadata": {},
     "output_type": "execute_result"
    }
   ],
   "source": [
    "from socketfs import SocketFSClient\n",
    "\n",
    "sockfs = SocketFSClient(\"demosock/demo.sock\")\n",
    "sockfs.listdir('/')\n"
   ]
  },
  {
   "cell_type": "markdown",
   "id": "c3cf68a6-d9e5-4698-9399-4094136fa7f3",
   "metadata": {},
   "source": [
    "### The Awesomeness Stops Here\n",
    "\n",
    "I'm working on it."
   ]
  },
  {
   "cell_type": "code",
   "execution_count": null,
   "id": "9fcf54a1-7fa4-475c-b5ff-83ac8c3032a9",
   "metadata": {},
   "outputs": [],
   "source": []
  }
 ],
 "metadata": {
  "kernelspec": {
   "display_name": "Python 3 (ipykernel)",
   "language": "python",
   "name": "python3"
  },
  "language_info": {
   "codemirror_mode": {
    "name": "ipython",
    "version": 3
   },
   "file_extension": ".py",
   "mimetype": "text/x-python",
   "name": "python",
   "nbconvert_exporter": "python",
   "pygments_lexer": "ipython3",
   "version": "3.10.12"
  }
 },
 "nbformat": 4,
 "nbformat_minor": 5
}
