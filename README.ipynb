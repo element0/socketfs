{
 "cells": [
  {
   "cell_type": "markdown",
   "id": "c423b89f-e8f4-4873-ae13-3a48128d2954",
   "metadata": {},
   "source": [
    "# socketfs\n",
    "\n",
    "A pyfilesystem-socket spamwich.\n",
    "\n",
    "\n",
    "```mermaid\n",
    "  graph TD\n",
    "    client[SocketFSClient]:::pyfs\n",
    "    socket( Socket ):::sock\n",
    "    server[SocketFSServer]:::pyfs\n",
    "\n",
    "    client --> socket --> server\n",
    "\n",
    "    classDef pyfs fill:#eeb\n",
    "    classDef sock fill:#fcc\n",
    "```"
   ]
  },
  {
   "cell_type": "code",
   "execution_count": null,
   "id": "00d6963b-a439-479d-880b-835cc5e63cf7",
   "metadata": {},
   "outputs": [],
   "source": []
  }
 ],
 "metadata": {
  "kernelspec": {
   "display_name": "Python 3 (ipykernel)",
   "language": "python",
   "name": "python3"
  },
  "language_info": {
   "codemirror_mode": {
    "name": "ipython",
    "version": 3
   },
   "file_extension": ".py",
   "mimetype": "text/x-python",
   "name": "python",
   "nbconvert_exporter": "python",
   "pygments_lexer": "ipython3",
   "version": "3.10.12"
  }
 },
 "nbformat": 4,
 "nbformat_minor": 5
}
